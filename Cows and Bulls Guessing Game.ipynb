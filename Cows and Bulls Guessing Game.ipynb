{
 "cells": [
  {
   "cell_type": "code",
   "execution_count": 1,
   "id": "signed-stone",
   "metadata": {},
   "outputs": [
    {
     "name": "stdout",
     "output_type": "stream",
     "text": [
      "Give your best guess: 2345\n",
      "The secret number is:  6284\n",
      "You guessed 2 cows and 0 bulls\n"
     ]
    }
   ],
   "source": [
    "import random\n",
    "\n",
    "\n",
    "def main():\n",
    "    \n",
    "    number_generated = random.sample(range(10), 4)\n",
    "    number_generated = ''.join(map(str, number_generated))\n",
    "    user_input = input(\"Give your best guess: \")\n",
    "    cow = 0\n",
    "    bull = 0\n",
    "\n",
    "    for i in range(len(number_generated)):\n",
    "        for j in range(len(user_input)):\n",
    "            if number_generated[i]== user_input[j]:\n",
    "                cow += 1\n",
    "                if i==j:\n",
    "                    bull+=1\n",
    "\n",
    "                \n",
    "    print(\"The secret number is: \" ,number_generated)\n",
    "    print(\"You guessed \" + str(cow) + \" cows and \" + str(bull) + \" bulls\")\n",
    "\n",
    "\n",
    "main()"
   ]
  },
  {
   "cell_type": "code",
   "execution_count": null,
   "id": "variable-lightweight",
   "metadata": {},
   "outputs": [],
   "source": []
  }
 ],
 "metadata": {
  "kernelspec": {
   "display_name": "Python 3",
   "language": "python",
   "name": "python3"
  },
  "language_info": {
   "codemirror_mode": {
    "name": "ipython",
    "version": 3
   },
   "file_extension": ".py",
   "mimetype": "text/x-python",
   "name": "python",
   "nbconvert_exporter": "python",
   "pygments_lexer": "ipython3",
   "version": "3.7.10"
  }
 },
 "nbformat": 4,
 "nbformat_minor": 5
}
