{
 "cells": [
  {
   "cell_type": "code",
   "execution_count": 2,
   "id": "literary-stanley",
   "metadata": {},
   "outputs": [
    {
     "name": "stdout",
     "output_type": "stream",
     "text": [
      "Enter the number:\n",
      "10\n",
      "The number is even\n"
     ]
    }
   ],
   "source": [
    "#ODD OR EVEN\n",
    "print(\"Enter the number:\")\n",
    "number = input()\n",
    "mod = 2\n",
    "if int(number) % 2 == 0:\n",
    "    print(\"The number is even\")\n",
    "else:\n",
    "    print(\"The number is odd\")"
   ]
  },
  {
   "cell_type": "code",
   "execution_count": 3,
   "id": "played-quest",
   "metadata": {},
   "outputs": [
    {
     "name": "stdout",
     "output_type": "stream",
     "text": [
      "[1, 2, 3, 4, 4, 0]\n"
     ]
    }
   ],
   "source": [
    "#LESS THAN 5\n",
    "\n",
    "st = [1,2,3,4,4,5,8,7,23,98,0]\n",
    "lst = []\n",
    "for i in st:\n",
    "    if i < 5:\n",
    "        lst.append(i)\n",
    "print(lst)"
   ]
  },
  {
   "cell_type": "code",
   "execution_count": 4,
   "id": "potential-fraction",
   "metadata": {},
   "outputs": [
    {
     "name": "stdout",
     "output_type": "stream",
     "text": [
      "Enter67\n",
      "[1, 67]\n"
     ]
    }
   ],
   "source": [
    "#DIVISORS:\n",
    "\n",
    "elem = int(input(\"Enter\"))\n",
    "lstrange = list(range(1,elem+1))\n",
    "\n",
    "sol = []\n",
    "for e in lstrange:\n",
    "    if elem % e == 0:\n",
    "        sol.append(e)\n",
    "        \n",
    "print(sol)"
   ]
  },
  {
   "cell_type": "code",
   "execution_count": 5,
   "id": "amber-ambassador",
   "metadata": {},
   "outputs": [
    {
     "name": "stdout",
     "output_type": "stream",
     "text": [
      "Enter first list: 2 3 4 5\n",
      "Enter second list: 2 3 4 6\n",
      "['2', '3', '4']\n"
     ]
    }
   ],
   "source": [
    "#LIST OVERLAP\n",
    "\n",
    "list1 = input(\"Enter first list: \")\n",
    "list1 = list1.split()\n",
    "list2 = input(\"Enter second list: \")\n",
    "list2 = list2.split()\n",
    "list3 = []\n",
    "\n",
    "for e in list1:\n",
    "    if e in list2:\n",
    "        list3.append(e)\n",
    "        \n",
    "print(list3)"
   ]
  },
  {
   "cell_type": "code",
   "execution_count": 6,
   "id": "trying-devil",
   "metadata": {},
   "outputs": [
    {
     "name": "stdout",
     "output_type": "stream",
     "text": [
      "Enter the word: hahah\n",
      "the word is a palindrome\n",
      "Enter the word: hahaha\n",
      "not a palindrome\n"
     ]
    }
   ],
   "source": [
    "#STRING LISTS PALINDROME\n",
    "\n",
    "string = input(\"Enter the word: \")\n",
    "c = \"\"\n",
    "for i in range(len(string)):\n",
    "    if string[i]==string[len(string)-i-1]:\n",
    "        c= c+string[i]\n",
    "if c == string:\n",
    "    print(\"the word is a palindrome\")\n",
    "else:\n",
    "    print(\"not a palindrome\")\n",
    "\n",
    "    \n",
    "    \n",
    "#ANOTHER METHOD\n",
    "\n",
    "string1 = input(\"Enter the word: \")\n",
    "wrd = string1[::-1]\n",
    "\n",
    "if wrd == string1:\n",
    "    print(\"the word is a palindrome\")\n",
    "else:\n",
    "    print(\"not a palindrome\")"
   ]
  },
  {
   "cell_type": "code",
   "execution_count": 7,
   "id": "hearing-insider",
   "metadata": {},
   "outputs": [
    {
     "name": "stdout",
     "output_type": "stream",
     "text": [
      "[4, 16, 36, 64, 100]\n"
     ]
    }
   ],
   "source": [
    "#LIST COMPREHENSIONS\n",
    "\n",
    "a = [1, 4, 9, 16, 25, 36, 49, 64, 81, 100]\n",
    "b = [even for even in a if even % 2 == 0]\n",
    "print(b)"
   ]
  },
  {
   "cell_type": "markdown",
   "id": "stretch-ordinary",
   "metadata": {},
   "source": [
    "#GUESSING GAME\n",
    "\n",
    "import random\n",
    "\n",
    "\n",
    "def guess():\n",
    "    c = 0  \n",
    "    while True:\n",
    "        a = random.randint(1,9)\n",
    "        user = int(input(\"Enter a number between 1 to 10 \"))\n",
    "        if a == user:\n",
    "            print(\"You guessed right!\")\n",
    "        elif a > user:\n",
    "            print(\"Number is lower\")\n",
    "        elif a < user:\n",
    "            print(\"Number is higher\")\n",
    "        c += 1    \n",
    "        user_input = input(\"Type exit to exit \")\n",
    "\n",
    "        if user_input != \"exit\":\n",
    "            pass\n",
    "        else:\n",
    "            break\n",
    "        return c   \n",
    "guess()"
   ]
  },
  {
   "cell_type": "code",
   "execution_count": 1,
   "id": "inner-sandwich",
   "metadata": {},
   "outputs": [
    {
     "name": "stdout",
     "output_type": "stream",
     "text": [
      "Enter first list: 1 2 3\n",
      "Enter second list: 2 2 67\n",
      "['2']\n"
     ]
    }
   ],
   "source": [
    "#LIST OVERLAP\n",
    "import random \n",
    "\n",
    "list1 = input(\"Enter first list: \")\n",
    "list1 = list1.split()\n",
    "list2 = input(\"Enter second list: \")\n",
    "list2 = list2.split()\n",
    "list3 = [e for e in set(list1) if e in list2]    #set makes sure no duplicates are possible\n",
    "# list3 = [i for i in list1 and list2 if i in list1 and list2]\n",
    "print(list3)"
   ]
  },
  {
   "cell_type": "code",
   "execution_count": 5,
   "id": "charitable-assignment",
   "metadata": {},
   "outputs": [
    {
     "name": "stdout",
     "output_type": "stream",
     "text": [
      "Enter the number: 3\n",
      "[2]\n",
      "Is a prime number\n"
     ]
    }
   ],
   "source": [
    "#PRIME NUMBER:\n",
    "\n",
    "def user_input():\n",
    "    return int(input(\"Enter the number: \"))\n",
    "\n",
    "def prime():\n",
    "    c = 0\n",
    "    inpt = user_input()\n",
    "    if inpt <= 0:\n",
    "        print(\"Not a prime number\")\n",
    "        return\n",
    "    lstrange1 = list(range(2, inpt))\n",
    "    for e in lstrange1:\n",
    "        if inpt % e == 0 :\n",
    "            c =1\n",
    "        \n",
    "            \n",
    "    if c==1:\n",
    "        print(\"Not a prime number\")\n",
    "    else:\n",
    "        print(\"Is a prime number\")\n",
    "prime()"
   ]
  },
  {
   "cell_type": "code",
   "execution_count": 27,
   "id": "capital-valuation",
   "metadata": {},
   "outputs": [
    {
     "name": "stdout",
     "output_type": "stream",
     "text": [
      "Enter the list: 1 1 2\n"
     ]
    },
    {
     "data": {
      "text/plain": [
       "['1', '2']"
      ]
     },
     "execution_count": 27,
     "metadata": {},
     "output_type": "execute_result"
    }
   ],
   "source": [
    "# #LIST ENDS\n",
    "\n",
    "def list_ends():\n",
    "    \n",
    "    a_list = input(\"Enter the list: \")\n",
    "    a_list = a_list.split()\n",
    "\n",
    "    return [a_list[0], a_list[len(a_list)-1]]\n",
    "        \n",
    "list_ends()"
   ]
  },
  {
   "cell_type": "code",
   "execution_count": 68,
   "id": "olive-nickname",
   "metadata": {},
   "outputs": [
    {
     "name": "stdout",
     "output_type": "stream",
     "text": [
      "Enter the number: 5\n",
      "range 5\n"
     ]
    },
    {
     "data": {
      "text/plain": [
       "[1, 2, 3, 5, 8]"
      ]
     },
     "execution_count": 68,
     "metadata": {},
     "output_type": "execute_result"
    }
   ],
   "source": [
    "#FIBONACCI\n",
    "\n",
    "def fibonacci():\n",
    "    \n",
    "    input_number = int(input(\"Enter the number: \"))\n",
    "    num_arr = [1]\n",
    "    \n",
    "    c = 1\n",
    "    print(\"range\", len(range(input_number)))\n",
    "    for i in range(1,input_number):\n",
    "        if i < 2:\n",
    "            c += i\n",
    "            num_arr.append(c)\n",
    "        else:\n",
    "            temp = num_arr[i-1]+num_arr[i-2]\n",
    "            num_arr.append(temp)\n",
    "#           \n",
    "    return num_arr\n",
    "\n",
    "fibonacci()"
   ]
  },
  {
   "cell_type": "code",
   "execution_count": 82,
   "id": "wrong-shaft",
   "metadata": {},
   "outputs": [
    {
     "name": "stdout",
     "output_type": "stream",
     "text": [
      "Enter the list: 1 2 2 2 3 4 4 5 6 8\n",
      "['8', '1', '4', '3', '2', '6', '5']\n"
     ]
    }
   ],
   "source": [
    "#REMOVE DUPLICATES\n",
    "\n",
    "import random \n",
    "\n",
    "list1 = input(\"Enter the list: \")\n",
    "list1 = list1.split()\n",
    "\n",
    "list2 = list(set(list1))\n",
    "\n",
    "print(list2)"
   ]
  },
  {
   "cell_type": "code",
   "execution_count": 9,
   "id": "improving-spoke",
   "metadata": {},
   "outputs": [
    {
     "name": "stdout",
     "output_type": "stream",
     "text": [
      "Enter the word: hello my name is aishwarya\n",
      "aishwarya is name my hello\n"
     ]
    }
   ],
   "source": [
    "#REVERSE WORD LIST\n",
    "\n",
    "given_words = input(\"Enter the word: \")\n",
    "\n",
    "words = given_words.split()\n",
    "words = words[::-1]\n",
    "\n",
    "words = ' '.join(words)\n",
    "print(words)"
   ]
  },
  {
   "cell_type": "code",
   "execution_count": 14,
   "id": "christian-closing",
   "metadata": {},
   "outputs": [
    {
     "name": "stdout",
     "output_type": "stream",
     "text": [
      "The Economy Is (Almost) Back. It Will Look Different Than It Used To. \n",
      "\n",
      "Diapers, cereal and, yes, toilet paper are going to get more expensive. \n",
      "\n",
      "President Biden Gives a Pep Talk for Still-Unusual Times \n",
      "\n",
      "In G.O.P. Rebuttal, Tim Scott Accuses Biden of Pulling Nation Apart \n",
      "\n",
      "At 100 Days, Biden Is Transforming What It Means to Be a Democrat \n",
      "\n",
      "Vaccine Skepticism Is Rooted in Beliefs, Not Ignorance \n",
      "\n",
      "Share your stories from India about the pandemic. \n",
      "\n",
      "The Exxon of Green Power: A Spanish Company and Its Boss Set Sky-High Goals \n",
      "\n",
      "Why Is Perimenopause Still Such a Mystery? \n",
      "\n",
      "The Frogmouth Is the Most Photogenic Bird, Researchers Say \n",
      "\n"
     ]
    }
   ],
   "source": [
    "#DECODE A WEB PAGE\n",
    "\n",
    "import requests\n",
    "from bs4 import BeautifulSoup\n",
    "\n",
    "base_url = 'http://www.nytimes.com'\n",
    "r = requests.get(base_url)\n",
    "soup = BeautifulSoup(r.text, 'html.parser')\n",
    " \n",
    "link = soup.find_all('h3')\n",
    "link\n",
    "content = []\n",
    "lk = soup.find_all(class_ = 'css-codfme e1lsht870')\n",
    "for i in lk:\n",
    "    content.append(i.getText())\n",
    "content = [print(i.split('\\n')[0],'\\n') for i in content]\n",
    "# print(content)\n",
    "# c = [print(i[0],'\\n') for i in content]\n",
    "# print(c,'\\n')"
   ]
  }
 ],
 "metadata": {
  "celltoolbar": "Raw Cell Format",
  "kernelspec": {
   "display_name": "Python 3",
   "language": "python",
   "name": "python3"
  },
  "language_info": {
   "codemirror_mode": {
    "name": "ipython",
    "version": 3
   },
   "file_extension": ".py",
   "mimetype": "text/x-python",
   "name": "python",
   "nbconvert_exporter": "python",
   "pygments_lexer": "ipython3",
   "version": "3.7.10"
  }
 },
 "nbformat": 4,
 "nbformat_minor": 5
}
