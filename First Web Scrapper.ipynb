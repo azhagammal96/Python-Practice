{
 "cells": [
  {
   "cell_type": "code",
   "execution_count": 2,
   "id": "hazardous-rating",
   "metadata": {},
   "outputs": [],
   "source": [
    "import requests\n",
    "from bs4 import BeautifulSoup\n"
   ]
  },
  {
   "cell_type": "code",
   "execution_count": 3,
   "id": "sacred-savage",
   "metadata": {},
   "outputs": [],
   "source": [
    "base_url = 'http://www.nytimes.com'\n",
    "r = requests.get(base_url)\n",
    "soup = BeautifulSoup(r.text, 'html.parser')\n",
    " \n",
    "link = soup.find_all('h3')\n",
    "link\n",
    "content = []\n",
    "lk = soup.find_all(class_ = 'css-codfme e1lsht870')\n",
    "for i in lk:\n",
    "    content.append(i.getText())\n",
    "content = [i.split('\\n')[0] for i in content]\n"
   ]
  },
  {
   "cell_type": "code",
   "execution_count": 4,
   "id": "continuous-indian",
   "metadata": {},
   "outputs": [
    {
     "data": {
      "text/plain": [
       "['Apple’s App Store Power Draws E.U. Antitrust Charge',\n",
       " 'Analysis: Tech giants have grown even stronger during the pandemic, raising uncomfortable questions for their C.E.O.s.',\n",
       " 'Here’s what we know about the deadly stampede.',\n",
       " 'Mass Vaccination, India’s Escape Route, Poses a Giant Challenge',\n",
       " 'The virus has complicated college commencements.',\n",
       " 'The mayor has promised a summer to remember in New York. Can he deliver?',\n",
       " 'Quarterbacks still come first. Here’s what we learned in this year’s draft.',\n",
       " 'Want to Move to Our Town? Here’s $10,000 and a Free Bike.',\n",
       " 'How to coax corporate America back to the office? First, get rid of the dead plants.']"
      ]
     },
     "execution_count": 4,
     "metadata": {},
     "output_type": "execute_result"
    }
   ],
   "source": [
    "content"
   ]
  },
  {
   "cell_type": "code",
   "execution_count": null,
   "id": "after-cinema",
   "metadata": {},
   "outputs": [],
   "source": []
  }
 ],
 "metadata": {
  "kernelspec": {
   "display_name": "Python 3",
   "language": "python",
   "name": "python3"
  },
  "language_info": {
   "codemirror_mode": {
    "name": "ipython",
    "version": 3
   },
   "file_extension": ".py",
   "mimetype": "text/x-python",
   "name": "python",
   "nbconvert_exporter": "python",
   "pygments_lexer": "ipython3",
   "version": "3.7.10"
  }
 },
 "nbformat": 4,
 "nbformat_minor": 5
}
