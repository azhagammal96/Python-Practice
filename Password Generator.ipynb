{
 "cells": [
  {
   "cell_type": "code",
   "execution_count": 3,
   "id": "auburn-arrest",
   "metadata": {},
   "outputs": [],
   "source": [
    "import string, random\n",
    "\n",
    "string = string.ascii_letters\n",
    "symbol_list = '!@#$%^&*'\n",
    "words = random.sample(string, 5)\n",
    "numbers = random.sample(range(0,10), 5)\n",
    "symbols = random.sample(symbol_list, 5)\n",
    "\n",
    "\n",
    "def main():\n",
    "    final_list = words + numbers + symbols\n",
    "    weak_list = words + numbers\n",
    "    if query == 'strong':\n",
    "        password = random.sample(final_list, 8)\n",
    "        password = ''.join(map(str, password))\n",
    "    elif query == 'weak':\n",
    "        password = random.sample(weak_list, 5)\n",
    "        password = ''.join(map(str, password))\n",
    "    print(password)\n",
    "    \n"
   ]
  },
  {
   "cell_type": "code",
   "execution_count": 4,
   "id": "wireless-liberty",
   "metadata": {},
   "outputs": [
    {
     "name": "stdout",
     "output_type": "stream",
     "text": [
      "Do you want a strong or weak password? strong\n",
      "td#25&gO\n"
     ]
    }
   ],
   "source": [
    "if __name__ == '__main__':\n",
    "    \n",
    "    query = input(\"Do you want a strong or weak password? \")\n",
    "\n",
    "    main()\n"
   ]
  },
  {
   "cell_type": "code",
   "execution_count": null,
   "id": "fallen-croatia",
   "metadata": {},
   "outputs": [],
   "source": []
  }
 ],
 "metadata": {
  "kernelspec": {
   "display_name": "Python 3",
   "language": "python",
   "name": "python3"
  },
  "language_info": {
   "codemirror_mode": {
    "name": "ipython",
    "version": 3
   },
   "file_extension": ".py",
   "mimetype": "text/x-python",
   "name": "python",
   "nbconvert_exporter": "python",
   "pygments_lexer": "ipython3",
   "version": "3.7.10"
  }
 },
 "nbformat": 4,
 "nbformat_minor": 5
}
