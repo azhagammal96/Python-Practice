{
 "cells": [
  {
   "cell_type": "code",
   "execution_count": 2,
   "id": "false-grace",
   "metadata": {},
   "outputs": [
    {
     "name": "stdout",
     "output_type": "stream",
     "text": [
      "enter: ········\n",
      "enter: ········\n",
      "Player 2 wins\n",
      "Type continue if you want to play: no\n",
      "Exited the game\n"
     ]
    }
   ],
   "source": [
    "import getpass\n",
    "def game():\n",
    "    \n",
    "    while True:\n",
    "        ip1 = getpass.getpass(\"Player 1 enter: \")\n",
    "        ip2 = getpass.getpass(\"Player 2 enter: \")\n",
    "       \n",
    "        if ip1 == ip2:\n",
    "            print(\"It's a tie!\")\n",
    "\n",
    "        elif ip1 == \"Rock\" and ip2 == \"Scissors\":\n",
    "            print(\"Player 1 wins\")\n",
    "\n",
    "        elif ip1 == \"Scissors\" and ip2 == \"Paper\":\n",
    "            print(\"Player 1 wins\")\n",
    "\n",
    "        elif ip1 == \"Paper\" and ip2 == \"Rock\":\n",
    "            print(\"Player 1 wins\")     \n",
    "\n",
    "        else:\n",
    "            print(\"Player 2 wins\")\n",
    "        user_input = input(\"Type continue if you want to play: \")\n",
    "        if user_input == \"continue\":\n",
    "            pass\n",
    "        else:\n",
    "            print(\"Exited the game\")\n",
    "            break\n",
    "    \n",
    "game()"
   ]
  },
  {
   "cell_type": "code",
   "execution_count": null,
   "id": "champion-adams",
   "metadata": {},
   "outputs": [],
   "source": []
  }
 ],
 "metadata": {
  "kernelspec": {
   "display_name": "Python 3",
   "language": "python",
   "name": "python3"
  },
  "language_info": {
   "codemirror_mode": {
    "name": "ipython",
    "version": 3
   },
   "file_extension": ".py",
   "mimetype": "text/x-python",
   "name": "python",
   "nbconvert_exporter": "python",
   "pygments_lexer": "ipython3",
   "version": "3.7.10"
  }
 },
 "nbformat": 4,
 "nbformat_minor": 5
}
